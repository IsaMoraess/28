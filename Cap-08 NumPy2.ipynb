{
 "cells": [
  {
   "cell_type": "markdown",
   "id": "d8bc4e1e",
   "metadata": {},
   "source": [
    "# Manipulando arquivos NumPy\n"
   ]
  },
  {
   "cell_type": "code",
   "execution_count": 1,
   "id": "33996fcf",
   "metadata": {},
   "outputs": [],
   "source": [
    "import os\n",
    "filename = os.path.join('dataset.csv')"
   ]
  },
  {
   "cell_type": "code",
   "execution_count": null,
   "id": "bf309ea9",
   "metadata": {},
   "outputs": [],
   "source": [
    "# No Windows use !more dataset.csv. Mac ou Linux usa !head dataset.csv\n",
    "!more dataset.csv\n",
    "# !head dataset.csv"
   ]
  },
  {
   "cell_type": "code",
   "execution_count": null,
   "id": "cf8ca07f",
   "metadata": {},
   "outputs": [],
   "source": [
    "# Carregando um dataset para dentro de um array \n",
    "arr13 = dsa.loadtxt(filename, delimiter = ',', usecols = (0,1,2,3), skiprows = 1)"
   ]
  },
  {
   "cell_type": "code",
   "execution_count": null,
   "id": "940ff74e",
   "metadata": {},
   "outputs": [],
   "source": [
    "print(arr13)"
   ]
  },
  {
   "cell_type": "code",
   "execution_count": null,
   "id": "7daa11bb",
   "metadata": {
    "collapsed": true
   },
   "outputs": [],
   "source": [
    "type(arr13)"
   ]
  },
  {
   "cell_type": "code",
   "execution_count": null,
   "id": "11728076",
   "metadata": {},
   "outputs": [],
   "source": [
    "# Carregando apenas dua variaveis (colunas) do arquivo\n",
    "var1, var2 = dsa.loadtxt(filename, delimiter = ',', usecols = (0,1,), skiprows = 1, unpack = True)"
   ]
  },
  {
   "cell_type": "code",
   "execution_count": null,
   "id": "2441b6b6",
   "metadata": {},
   "outputs": [],
   "source": [
    "# Gerando um plot a partir de um arquivo usando o NumPy\n",
    "import matplotlib. pyplot as plt \n",
    "plt.show(plt.plot(var1, var2, 'o', markersize = 6, color = 'red'))"
   ]
  }
 ],
 "metadata": {
  "kernelspec": {
   "display_name": "Python 3 (ipykernel)",
   "language": "python",
   "name": "python3"
  },
  "language_info": {
   "codemirror_mode": {
    "name": "ipython",
    "version": 3
   },
   "file_extension": ".py",
   "mimetype": "text/x-python",
   "name": "python",
   "nbconvert_exporter": "python",
   "pygments_lexer": "ipython3",
   "version": "3.9.13"
  }
 },
 "nbformat": 4,
 "nbformat_minor": 5
}
